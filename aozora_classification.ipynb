{
 "cells": [
  {
   "cell_type": "code",
   "execution_count": 17,
   "metadata": {
    "collapsed": false
   },
   "outputs": [],
   "source": [
    "\"\"\"\n",
    "This predict how much a sentence is similar to one of the Japanese classical author.\n",
    "Before using this, be sure to generate a model using aozora_cnn.py.\n",
    "Change the values for model_file to your model hdf5 file path, raw_txt to your favorite sentence in Japanese\n",
    "and target_author to the author you trained the model.\n",
    "\"\"\"\n",
    "\n",
    "import numpy as np\n",
    "import pandas as pds\n",
    "from keras.models import load_model\n",
    "\n",
    "model_file = \"/tmp/weights.07-0.22-0.92-0.35-0.88.hdf5\"\n",
    "raw_txt = \"隴西の李徴は博學才穎、天寶の末年、若くして名を虎榜に連ね、ついで江南尉に補せられたが、性、狷介、自ら恃む所頗る厚く、賤吏に甘んずるを潔しとしなかつた。\"\n",
    "target_author = [\"夏目漱石\",\"芥川龍之介\",\"森鴎外\",\"坂口安吾\"]"
   ]
  },
  {
   "cell_type": "code",
   "execution_count": 19,
   "metadata": {
    "collapsed": true
   },
   "outputs": [],
   "source": [
    "# Encodes the raw_txt\n",
    "def text_encoding(raw_txt):\n",
    "    txt = [ord(x) for x in str(raw_txt).strip()]\n",
    "    txt = txt[:200]\n",
    "    if len(txt) < 200:\n",
    "        txt += ([0] * (200 - len(txt)))\n",
    "    return txt"
   ]
  },
  {
   "cell_type": "code",
   "execution_count": 18,
   "metadata": {
    "collapsed": false
   },
   "outputs": [],
   "source": [
    "# Predict\n",
    "def predict(comments, model_filepath=\"model.h5\"):\n",
    "    model = load_model(model_filepath)\n",
    "    ret = model.predict(comments)\n",
    "    return ret"
   ]
  },
  {
   "cell_type": "code",
   "execution_count": 20,
   "metadata": {
    "collapsed": false
   },
   "outputs": [],
   "source": [
    "if __name__ == \"__main__\":\n",
    "    txt = text_encoding(raw_txt)\n",
    "    predict_result = predict(np.array([txt]), model_filepath=model_file)\n",
    "\n",
    "    pds_predict_result = pds.DataFrame(predict_result, columns=target_author)"
   ]
  },
  {
   "cell_type": "code",
   "execution_count": 21,
   "metadata": {
    "collapsed": false
   },
   "outputs": [
    {
     "data": {
      "text/html": [
       "<div>\n",
       "<table border=\"1\" class=\"dataframe\">\n",
       "  <thead>\n",
       "    <tr style=\"text-align: right;\">\n",
       "      <th></th>\n",
       "      <th>夏目漱石</th>\n",
       "      <th>芥川龍之介</th>\n",
       "      <th>森鴎外</th>\n",
       "      <th>坂口安吾</th>\n",
       "    </tr>\n",
       "  </thead>\n",
       "  <tbody>\n",
       "    <tr>\n",
       "      <th>0</th>\n",
       "      <td>0.000189</td>\n",
       "      <td>0.000019</td>\n",
       "      <td>0.002271</td>\n",
       "      <td>4.166666e-07</td>\n",
       "    </tr>\n",
       "  </tbody>\n",
       "</table>\n",
       "</div>"
      ],
      "text/plain": [
       "       夏目漱石     芥川龍之介       森鴎外          坂口安吾\n",
       "0  0.000189  0.000019  0.002271  4.166666e-07"
      ]
     },
     "execution_count": 21,
     "metadata": {},
     "output_type": "execute_result"
    }
   ],
   "source": [
    "pds_predict_result"
   ]
  },
  {
   "cell_type": "code",
   "execution_count": null,
   "metadata": {
    "collapsed": true
   },
   "outputs": [],
   "source": []
  }
 ],
 "metadata": {
  "anaconda-cloud": {},
  "kernelspec": {
   "display_name": "Python [default]",
   "language": "python",
   "name": "python3"
  },
  "language_info": {
   "codemirror_mode": {
    "name": "ipython",
    "version": 3
   },
   "file_extension": ".py",
   "mimetype": "text/x-python",
   "name": "python",
   "nbconvert_exporter": "python",
   "pygments_lexer": "ipython3",
   "version": "3.5.2"
  }
 },
 "nbformat": 4,
 "nbformat_minor": 1
}
